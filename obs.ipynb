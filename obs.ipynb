{
 "cells": [
  {
   "cell_type": "markdown",
   "metadata": {},
   "source": [
    "###  Calculation of the observables\n",
    "* We will start with reproducing the results of the quenched xy model.\n",
    "\n",
    "\n"
   ]
  },
  {
   "cell_type": "code",
   "execution_count": 1,
   "metadata": {},
   "outputs": [],
   "source": [
    "import numpy as np\n",
    "import pandas as pd\n",
    "import matplotlib.pyplot as plt\n",
    "import seaborn as sns\n",
    "from itertools import product"
   ]
  },
  {
   "cell_type": "code",
   "execution_count": 2,
   "metadata": {},
   "outputs": [
    {
     "data": {
      "text/html": [
       "<div>\n",
       "<style scoped>\n",
       "    .dataframe tbody tr th:only-of-type {\n",
       "        vertical-align: middle;\n",
       "    }\n",
       "\n",
       "    .dataframe tbody tr th {\n",
       "        vertical-align: top;\n",
       "    }\n",
       "\n",
       "    .dataframe thead th {\n",
       "        text-align: right;\n",
       "    }\n",
       "</style>\n",
       "<table border=\"1\" class=\"dataframe\">\n",
       "  <thead>\n",
       "    <tr style=\"text-align: right;\">\n",
       "      <th></th>\n",
       "      <th>time</th>\n",
       "      <th>theta0</th>\n",
       "      <th>theta1</th>\n",
       "      <th>theta2</th>\n",
       "      <th>theta3</th>\n",
       "      <th>theta4</th>\n",
       "      <th>theta5</th>\n",
       "      <th>theta6</th>\n",
       "      <th>theta7</th>\n",
       "      <th>theta8</th>\n",
       "      <th>...</th>\n",
       "      <th>theta4086</th>\n",
       "      <th>theta4087</th>\n",
       "      <th>theta4088</th>\n",
       "      <th>theta4089</th>\n",
       "      <th>theta4090</th>\n",
       "      <th>theta4091</th>\n",
       "      <th>theta4092</th>\n",
       "      <th>theta4093</th>\n",
       "      <th>theta4094</th>\n",
       "      <th>theta4095</th>\n",
       "    </tr>\n",
       "  </thead>\n",
       "  <tbody>\n",
       "    <tr>\n",
       "      <th>2995</th>\n",
       "      <td>2995.0</td>\n",
       "      <td>-2.241835</td>\n",
       "      <td>-2.510902</td>\n",
       "      <td>-2.764798</td>\n",
       "      <td>2.374353</td>\n",
       "      <td>2.754889</td>\n",
       "      <td>3.088828</td>\n",
       "      <td>2.701988</td>\n",
       "      <td>-2.253330</td>\n",
       "      <td>-2.38346</td>\n",
       "      <td>...</td>\n",
       "      <td>-2.082923</td>\n",
       "      <td>-1.914092</td>\n",
       "      <td>-2.385437</td>\n",
       "      <td>-2.562361</td>\n",
       "      <td>-2.671939</td>\n",
       "      <td>-2.618603</td>\n",
       "      <td>-2.992272</td>\n",
       "      <td>-2.991832</td>\n",
       "      <td>-3.125287</td>\n",
       "      <td>-2.862436</td>\n",
       "    </tr>\n",
       "    <tr>\n",
       "      <th>2996</th>\n",
       "      <td>2996.0</td>\n",
       "      <td>-2.106726</td>\n",
       "      <td>-2.510902</td>\n",
       "      <td>-2.764798</td>\n",
       "      <td>2.374353</td>\n",
       "      <td>2.754889</td>\n",
       "      <td>3.088828</td>\n",
       "      <td>2.766816</td>\n",
       "      <td>2.119929</td>\n",
       "      <td>-2.38346</td>\n",
       "      <td>...</td>\n",
       "      <td>-2.082923</td>\n",
       "      <td>-1.914092</td>\n",
       "      <td>-2.385437</td>\n",
       "      <td>-2.562361</td>\n",
       "      <td>-2.671939</td>\n",
       "      <td>-2.618603</td>\n",
       "      <td>-2.992272</td>\n",
       "      <td>-2.991832</td>\n",
       "      <td>-3.125287</td>\n",
       "      <td>-2.862436</td>\n",
       "    </tr>\n",
       "    <tr>\n",
       "      <th>2997</th>\n",
       "      <td>2997.0</td>\n",
       "      <td>-2.106726</td>\n",
       "      <td>-2.510902</td>\n",
       "      <td>-2.764798</td>\n",
       "      <td>2.374353</td>\n",
       "      <td>2.754889</td>\n",
       "      <td>3.088828</td>\n",
       "      <td>2.766816</td>\n",
       "      <td>-2.436240</td>\n",
       "      <td>-2.38346</td>\n",
       "      <td>...</td>\n",
       "      <td>-1.377109</td>\n",
       "      <td>-1.914092</td>\n",
       "      <td>-2.385437</td>\n",
       "      <td>-2.562361</td>\n",
       "      <td>-2.671939</td>\n",
       "      <td>-2.618603</td>\n",
       "      <td>-2.992272</td>\n",
       "      <td>-2.991832</td>\n",
       "      <td>-2.598352</td>\n",
       "      <td>-2.862436</td>\n",
       "    </tr>\n",
       "    <tr>\n",
       "      <th>2998</th>\n",
       "      <td>2998.0</td>\n",
       "      <td>-2.106726</td>\n",
       "      <td>-2.510902</td>\n",
       "      <td>-2.764798</td>\n",
       "      <td>2.374353</td>\n",
       "      <td>2.754889</td>\n",
       "      <td>3.088828</td>\n",
       "      <td>2.766816</td>\n",
       "      <td>-2.701200</td>\n",
       "      <td>-2.38346</td>\n",
       "      <td>...</td>\n",
       "      <td>-1.430900</td>\n",
       "      <td>-1.914092</td>\n",
       "      <td>-2.385437</td>\n",
       "      <td>-2.562361</td>\n",
       "      <td>-2.671939</td>\n",
       "      <td>-2.618603</td>\n",
       "      <td>-2.992272</td>\n",
       "      <td>-2.991832</td>\n",
       "      <td>-2.828206</td>\n",
       "      <td>-2.862436</td>\n",
       "    </tr>\n",
       "    <tr>\n",
       "      <th>2999</th>\n",
       "      <td>2999.0</td>\n",
       "      <td>-1.731462</td>\n",
       "      <td>-2.510902</td>\n",
       "      <td>-1.969315</td>\n",
       "      <td>2.374353</td>\n",
       "      <td>2.754889</td>\n",
       "      <td>3.088828</td>\n",
       "      <td>2.766816</td>\n",
       "      <td>-2.701200</td>\n",
       "      <td>-2.38346</td>\n",
       "      <td>...</td>\n",
       "      <td>-1.430900</td>\n",
       "      <td>-1.914092</td>\n",
       "      <td>-2.385437</td>\n",
       "      <td>-2.961951</td>\n",
       "      <td>-2.671939</td>\n",
       "      <td>-2.600708</td>\n",
       "      <td>-2.992272</td>\n",
       "      <td>-2.991832</td>\n",
       "      <td>-2.828206</td>\n",
       "      <td>-2.862436</td>\n",
       "    </tr>\n",
       "  </tbody>\n",
       "</table>\n",
       "<p>5 rows × 4097 columns</p>\n",
       "</div>"
      ],
      "text/plain": [
       "        time    theta0    theta1    theta2    theta3    theta4    theta5  \\\n",
       "2995  2995.0 -2.241835 -2.510902 -2.764798  2.374353  2.754889  3.088828   \n",
       "2996  2996.0 -2.106726 -2.510902 -2.764798  2.374353  2.754889  3.088828   \n",
       "2997  2997.0 -2.106726 -2.510902 -2.764798  2.374353  2.754889  3.088828   \n",
       "2998  2998.0 -2.106726 -2.510902 -2.764798  2.374353  2.754889  3.088828   \n",
       "2999  2999.0 -1.731462 -2.510902 -1.969315  2.374353  2.754889  3.088828   \n",
       "\n",
       "        theta6    theta7   theta8  ...  theta4086  theta4087  theta4088  \\\n",
       "2995  2.701988 -2.253330 -2.38346  ...  -2.082923  -1.914092  -2.385437   \n",
       "2996  2.766816  2.119929 -2.38346  ...  -2.082923  -1.914092  -2.385437   \n",
       "2997  2.766816 -2.436240 -2.38346  ...  -1.377109  -1.914092  -2.385437   \n",
       "2998  2.766816 -2.701200 -2.38346  ...  -1.430900  -1.914092  -2.385437   \n",
       "2999  2.766816 -2.701200 -2.38346  ...  -1.430900  -1.914092  -2.385437   \n",
       "\n",
       "      theta4089  theta4090  theta4091  theta4092  theta4093  theta4094  \\\n",
       "2995  -2.562361  -2.671939  -2.618603  -2.992272  -2.991832  -3.125287   \n",
       "2996  -2.562361  -2.671939  -2.618603  -2.992272  -2.991832  -3.125287   \n",
       "2997  -2.562361  -2.671939  -2.618603  -2.992272  -2.991832  -2.598352   \n",
       "2998  -2.562361  -2.671939  -2.618603  -2.992272  -2.991832  -2.828206   \n",
       "2999  -2.961951  -2.671939  -2.600708  -2.992272  -2.991832  -2.828206   \n",
       "\n",
       "      theta4095  \n",
       "2995  -2.862436  \n",
       "2996  -2.862436  \n",
       "2997  -2.862436  \n",
       "2998  -2.862436  \n",
       "2999  -2.862436  \n",
       "\n",
       "[5 rows x 4097 columns]"
      ]
     },
     "execution_count": 2,
     "metadata": {},
     "output_type": "execute_result"
    }
   ],
   "source": [
    "conf1 = pd.read_csv('sudden_quench_sweepspinconf_L64.dat',sep='\\t',header=None)\n",
    "col_names = []\n",
    "col_names.append('time')\n",
    "col_names.extend([f'theta{i}' for i in range(4097)])\n",
    "conf1.columns = col_names\n",
    "\n",
    "conf1.drop(col_names[-1],axis=1,inplace=True)\n",
    "conf1.tail()\n"
   ]
  },
  {
   "cell_type": "markdown",
   "metadata": {},
   "source": [
    "### Observables\n",
    "\n",
    "\\begin{equation}\n",
    "\\chi(t) = \\frac{1}{L^{2}}\\vec{M}^{2}(t) \n",
    "\\end{equation}\n",
    " \n",
    "$\\vec{M}(t) = \\sum_{i}\\vec{s}_{i}(t) = \\sum_{i}s_{x,i}(t) + \\sum_{i}s_{y,i}(t) = \\sum_{i}\\cos \\theta_{i}(t) + \\sin \\theta_{i}(t) = \\theta_{i,}$\n",
    "* The second moment of correlation length is given by,\n",
    "\\begin{equation}\n",
    "\\xi^{2}(t)  = \\frac{1}{(2\\sin(\\pi/L))^{2}}\\left(\\frac{\\chi(t)}{F(t)} - 1\\right)\n",
    "\\end{equation}\n",
    "\n",
    "Where,\n",
    "\\begin{equation}\n",
    "F(t) = \\frac{1}{L^{2}}\\sum_{ij}\\langle\\vec{s_{i}(t)}.\\vec{s_{j}(t)} \\rangle \\cos(2\\pi(j_{x}-i_{x}))\n",
    "\\end{equation}\n",
    "* This in turn can be simplified further,\n",
    "* $ \\langle\\vec{s_{i}(t)}.\\vec{s_{j}(t)} \\rangle = \\langle s_{x,i}(t)s_{x,j}(t) + s_{y,i}(t)s_{y,j}(t)  \\rangle $\n",
    "* $\\cos(2 \\pi(j_{x}-i_{x})) = \\cos(2\\pi(j\\%L - i\\%L))$"
   ]
  },
  {
   "cell_type": "code",
   "execution_count": 3,
   "metadata": {},
   "outputs": [],
   "source": [
    "class Observables:\n",
    "    def __init__(self,f1):\n",
    "        self.data = f1\n",
    "        self.temp = f1.time \n",
    "        self.n_sites = (int)(len(f1.columns)-1)\n",
    "        self.L  = (int)(np.sqrt(self.n_sites))\n",
    "        self.colnames = list(f1.columns)\n",
    "        self.thetas = list(self.colnames[1:])\n",
    "        self.site_arr = np.arange(self.n_sites)\n",
    "        \n",
    "    \n",
    "    ## function to calculate the phase that is multiplied with the spin-spin correlation function\n",
    "    def phase_mat(self):\n",
    "        temp_mat = np.zeros((self.L,self.L))\n",
    "        for i,j in product(np.arange(self.L),np.arange(self.L)):\n",
    "            temp_mat[i,j] = np.cos(2*np.pi*(i-j))\n",
    "        self.cosphase = temp_mat\n",
    "        \n",
    "    ## this function will calculate the x and y index of each site\n",
    "    def calculate_siteindex(self):\n",
    "        self.X_site = np.array(list(map(lambda x:x%self.L,\n",
    "                    np.array([i for i in range(self.n_sites)]))))\n",
    "        self.Y_site = np.array(list(map(lambda x: x // self.L,\\\n",
    "                    np.array([i for i in range(self.n_sites)]))))\n",
    "\n",
    "    ## this function will calculate x and y component of using theta\n",
    "    ## sx-->cos(theta), sy-->sin(theta)\n",
    "\n",
    "    def calculate_sx(self):\n",
    "        temp_data = self.data\n",
    "        temp_data_sy = temp_data[self.thetas].apply(lambda x:np.sin(x))\n",
    "        temp_data_sx = temp_data[self.thetas].apply(lambda x: np.cos(x))\n",
    "\n",
    "        self.data_sx = temp_data_sx\n",
    "        self.data_sy = temp_data_sy\n",
    "    \n",
    "    ## calculate m(t) = sum(sx(t)) + sum(sy(t))\n",
    "    ## to sum over all the values of theta sum over all the columns(axis=1).\n",
    "    def calculate_mt(self):\n",
    "        self.mxt =  self.data_sx.sum(axis=1)\n",
    "        self.myt = self.data_sy.sum(axis=1)\n",
    "\n",
    "    ## calculate chi(t) \n",
    "    def M2_calc(self):\n",
    "        self.M2 = (self.mxt)**2 + (self.myt)**2\n",
    "        self.chit = (self.M2)/self.n_sites\n",
    "    \n",
    "    ## to calculate the correlation functions\n",
    "    def corr_funct(self,t):\n",
    "        data_x = self.data_sx.iloc[t,:]\n",
    "        data_y = self.data_sy.iloc[t,:]\n",
    "        sum_xx = 0.0\n",
    "        sum_yy = 0.0\n",
    "        sum_xy = 0.0\n",
    "        corr_func = np.zeros((self.L , self.L))\n",
    "        for i,j in product(self.site_arr,self.site_arr):\n",
    "            sum_xx,sum_yy = data_x[i]*data_x[j],data_y[i]*data_y[j]\n",
    "            xi,xj = i%self.L,j%self.L\n",
    "            sum_xy = (sum_xx + sum_yy)*self.cosphase[xi][xj]\n",
    "            corr_func[i,j]+=sum_xy\n",
    "        return corr_func.sum()\n",
    "    \n",
    "    ## calcualte the time dependent correlation function\n",
    "    def t_dep_corrfunc(self):\n",
    "        corr_t = []\n",
    "        for j in range(100):\n",
    "            corr_t.append(self.corr_funct(j))\n",
    "        self.ct = corr_t\n",
    "        \n",
    "            "
   ]
  },
  {
   "cell_type": "code",
   "execution_count": 4,
   "metadata": {},
   "outputs": [
    {
     "ename": "IndexError",
     "evalue": "index 64 is out of bounds for axis 1 with size 64",
     "output_type": "error",
     "traceback": [
      "\u001b[0;31m---------------------------------------------------------------------------\u001b[0m",
      "\u001b[0;31mIndexError\u001b[0m                                Traceback (most recent call last)",
      "\u001b[0;32m<ipython-input-4-552b8848e57b>\u001b[0m in \u001b[0;36m<module>\u001b[0;34m\u001b[0m\n\u001b[1;32m     18\u001b[0m \u001b[0;34m\u001b[0m\u001b[0m\n\u001b[1;32m     19\u001b[0m \u001b[0;31m## calculating the correlation function\u001b[0m\u001b[0;34m\u001b[0m\u001b[0;34m\u001b[0m\u001b[0;34m\u001b[0m\u001b[0m\n\u001b[0;32m---> 20\u001b[0;31m \u001b[0mobs1\u001b[0m\u001b[0;34m.\u001b[0m\u001b[0mt_dep_corrfunc\u001b[0m\u001b[0;34m(\u001b[0m\u001b[0;34m)\u001b[0m\u001b[0;34m\u001b[0m\u001b[0;34m\u001b[0m\u001b[0m\n\u001b[0m",
      "\u001b[0;32m<ipython-input-3-ee7316ae7771>\u001b[0m in \u001b[0;36mt_dep_corrfunc\u001b[0;34m(self)\u001b[0m\n\u001b[1;32m     65\u001b[0m         \u001b[0mcorr_t\u001b[0m \u001b[0;34m=\u001b[0m \u001b[0;34m[\u001b[0m\u001b[0;34m]\u001b[0m\u001b[0;34m\u001b[0m\u001b[0;34m\u001b[0m\u001b[0m\n\u001b[1;32m     66\u001b[0m         \u001b[0;32mfor\u001b[0m \u001b[0mj\u001b[0m \u001b[0;32min\u001b[0m \u001b[0mrange\u001b[0m\u001b[0;34m(\u001b[0m\u001b[0;36m100\u001b[0m\u001b[0;34m)\u001b[0m\u001b[0;34m:\u001b[0m\u001b[0;34m\u001b[0m\u001b[0;34m\u001b[0m\u001b[0m\n\u001b[0;32m---> 67\u001b[0;31m             \u001b[0mcorr_t\u001b[0m\u001b[0;34m.\u001b[0m\u001b[0mappend\u001b[0m\u001b[0;34m(\u001b[0m\u001b[0mself\u001b[0m\u001b[0;34m.\u001b[0m\u001b[0mcorr_funct\u001b[0m\u001b[0;34m(\u001b[0m\u001b[0mj\u001b[0m\u001b[0;34m)\u001b[0m\u001b[0;34m)\u001b[0m\u001b[0;34m\u001b[0m\u001b[0;34m\u001b[0m\u001b[0m\n\u001b[0m\u001b[1;32m     68\u001b[0m         \u001b[0mself\u001b[0m\u001b[0;34m.\u001b[0m\u001b[0mct\u001b[0m \u001b[0;34m=\u001b[0m \u001b[0mcorr_t\u001b[0m\u001b[0;34m\u001b[0m\u001b[0;34m\u001b[0m\u001b[0m\n\u001b[1;32m     69\u001b[0m \u001b[0;34m\u001b[0m\u001b[0m\n",
      "\u001b[0;32m<ipython-input-3-ee7316ae7771>\u001b[0m in \u001b[0;36mcorr_funct\u001b[0;34m(self, t)\u001b[0m\n\u001b[1;32m     58\u001b[0m             \u001b[0mxi\u001b[0m\u001b[0;34m,\u001b[0m\u001b[0mxj\u001b[0m \u001b[0;34m=\u001b[0m \u001b[0mi\u001b[0m\u001b[0;34m%\u001b[0m\u001b[0mself\u001b[0m\u001b[0;34m.\u001b[0m\u001b[0mL\u001b[0m\u001b[0;34m,\u001b[0m\u001b[0mj\u001b[0m\u001b[0;34m%\u001b[0m\u001b[0mself\u001b[0m\u001b[0;34m.\u001b[0m\u001b[0mL\u001b[0m\u001b[0;34m\u001b[0m\u001b[0;34m\u001b[0m\u001b[0m\n\u001b[1;32m     59\u001b[0m             \u001b[0msum_xy\u001b[0m \u001b[0;34m=\u001b[0m \u001b[0;34m(\u001b[0m\u001b[0msum_xx\u001b[0m \u001b[0;34m+\u001b[0m \u001b[0msum_yy\u001b[0m\u001b[0;34m)\u001b[0m\u001b[0;34m*\u001b[0m\u001b[0mself\u001b[0m\u001b[0;34m.\u001b[0m\u001b[0mcosphase\u001b[0m\u001b[0;34m[\u001b[0m\u001b[0mxi\u001b[0m\u001b[0;34m]\u001b[0m\u001b[0;34m[\u001b[0m\u001b[0mxj\u001b[0m\u001b[0;34m]\u001b[0m\u001b[0;34m\u001b[0m\u001b[0;34m\u001b[0m\u001b[0m\n\u001b[0;32m---> 60\u001b[0;31m             \u001b[0mcorr_func\u001b[0m\u001b[0;34m[\u001b[0m\u001b[0mi\u001b[0m\u001b[0;34m,\u001b[0m\u001b[0mj\u001b[0m\u001b[0;34m]\u001b[0m\u001b[0;34m+=\u001b[0m\u001b[0msum_xy\u001b[0m\u001b[0;34m\u001b[0m\u001b[0;34m\u001b[0m\u001b[0m\n\u001b[0m\u001b[1;32m     61\u001b[0m         \u001b[0;32mreturn\u001b[0m \u001b[0mcorr_func\u001b[0m\u001b[0;34m.\u001b[0m\u001b[0msum\u001b[0m\u001b[0;34m(\u001b[0m\u001b[0;34m)\u001b[0m\u001b[0;34m\u001b[0m\u001b[0;34m\u001b[0m\u001b[0m\n\u001b[1;32m     62\u001b[0m \u001b[0;34m\u001b[0m\u001b[0m\n",
      "\u001b[0;31mIndexError\u001b[0m: index 64 is out of bounds for axis 1 with size 64"
     ]
    }
   ],
   "source": [
    "## instantiate the object\n",
    "obs1 = Observables(conf1)\n",
    "\n",
    "## initialize the phase matrix(the one that is multiplied with the spin-spin correlation function)\n",
    "obs1.phase_mat()\n",
    "\n",
    "## calculate the x and y index of the lattice site\n",
    "obs1.calculate_siteindex()\n",
    "\n",
    "## calculate the sx and sy component of the spin\n",
    "obs1.calculate_sx()\n",
    "\n",
    "## calculate mt from the data\n",
    "obs1.calculate_mt()\n",
    "\n",
    "## calculate the M2 and chit from the data\n",
    "obs1.M2_calc()\n",
    "\n",
    "## calculating the correlation function \n",
    "obs1.t_dep_corrfunc()\n"
   ]
  },
  {
   "cell_type": "code",
   "execution_count": 169,
   "metadata": {},
   "outputs": [
    {
     "data": {
      "text/plain": [
       "0    -0.998264\n",
       "1    -0.998264\n",
       "2    -0.998264\n",
       "3    -0.998264\n",
       "4    -0.998264\n",
       "        ...   \n",
       "95   -0.998264\n",
       "96   -0.998264\n",
       "97   -0.998264\n",
       "98   -0.998264\n",
       "99   -0.998264\n",
       "Length: 100, dtype: float64"
      ]
     },
     "execution_count": 169,
     "metadata": {},
     "output_type": "execute_result"
    }
   ],
   "source": [
    "(obs1.chit[:100]/obs1.ct) - 1"
   ]
  },
  {
   "cell_type": "code",
   "execution_count": null,
   "metadata": {},
   "outputs": [],
   "source": []
  },
  {
   "cell_type": "code",
   "execution_count": 143,
   "metadata": {},
   "outputs": [
    {
     "data": {
      "text/plain": [
       "7.105427357601002e-15"
      ]
     },
     "execution_count": 143,
     "metadata": {},
     "output_type": "execute_result"
    }
   ],
   "source": [
    "obs1.chit.iloc[100]/((1./obs1.n_sites)*outp.sum())-1"
   ]
  },
  {
   "cell_type": "code",
   "execution_count": 121,
   "metadata": {},
   "outputs": [
    {
     "data": {
      "image/png": "[encoded data removed]",
      "text/plain": [
       "<Figure size 432x288 with 2 Axes>"
      ]
     },
     "metadata": {
      "needs_background": "light"
     },
     "output_type": "display_data"
    }
   ],
   "source": [
    "plt.imshow(outp/(obs1.n_sites),origin='lower',cmap='afmhot',interpolation='bicubic')\n",
    "plt.colorbar()\n",
    "plt.show()"
   ]
  },
  {
   "cell_type": "code",
   "execution_count": 65,
   "metadata": {},
   "outputs": [
    {
     "data": {
      "image/png": "[encoded data removed]",
      "text/plain": [
       "<Figure size 864x288 with 2 Axes>"
      ]
     },
     "metadata": {
      "needs_background": "light"
     },
     "output_type": "display_data"
    }
   ],
   "source": [
    "f,ax=plt.subplots(1,2,figsize=(12,4))\n",
    "obs1.M2.plot(kind='line',ax=ax[0])\n",
    "ax[0].set_xlabel('Time',fontsize=14)\n",
    "ax[0].set_ylabel(r'$M^{2}(t)$',fontsize=14)\n",
    "\n",
    "obs1.chit.plot(kind='line',ax=ax[1])\n",
    "ax[1].set_xlabel('Time',fontsize=14)\n",
    "ax[1].set_ylabel(r'$\\chi(t)$',fontsize=14)\n",
    "\n",
    "plt.show()\n"
   ]
  },
  {
   "cell_type": "markdown",
   "metadata": {},
   "source": [
    "### Correlation function calculation\n",
    "* The correlation $C(r,t)$ function is given by,\n",
    "\\begin{eqnarray*}\n",
    "C(r,t) &=& \\sum_{ij}\\langle \\vec{S}_{i,t}. \\vec{S}_{j,t}  \\rangle_{|r_{i}-r_{j}|=r} \\\\\n",
    "C(r,t) &=& \\sum_{ij}\\langle S^{x}_{i,t} S^{x}_{j,t} + S^{y}_{i,t} S^{y}_{j,t}  \\rangle_{|r_{i}-r_{j}|=r}\n",
    "\\end{eqnarray*}"
   ]
  },
  {
   "cell_type": "code",
   "execution_count": 285,
   "metadata": {},
   "outputs": [],
   "source": [
    "### sdn quench class is inheriting from the Observables class\n",
    "class sdnquench(Observables):\n",
    "    ## instantiating the object\n",
    "    def __init__(self,f1):\n",
    "        super().__init__(f1)\n",
    "    \n",
    "    ### correlation function calculation\n",
    "    def corr_rt(self,t):\n",
    "        data_x = self.data_sx.iloc[t,:]\n",
    "        data_y = self.data_sy.iloc[t,:]\n",
    "        sloc_x,sloc_y = 0.0,0.0\n",
    "        temp = np.zeros((self.L,self.L))\n",
    "        sum_dict = {}\n",
    "        sx_copy = data_x.copy()\n",
    "        sy_copy = data_y.copy()\n",
    "       \n",
    "        data_x = data_x.values.reshape(-1,1)\n",
    "        data_y = data_y.values.reshape(-1,1)\n",
    "\n",
    "       \n",
    "        sx_copy = sx_copy.values.reshape(1,-1)\n",
    "        sy_copy = sy_copy.values.reshape(1,-1)\n",
    "\n",
    "        temp_xmat = np.matmul(data_x,sx_copy)\n",
    "        temp_ymat = np.matmul(data_y,sy_copy)\n",
    "        print(xmat.shape)\n",
    "        #for i,j in product(np.arange(self.n_sites),np.arange(self.n_sites)):\n",
    "        #    sloc_x = data_x[i]*data_x[j]\n",
    "        #    sloc_y = data_y[i]*data_y[j]\n",
    "        #    sum_sisj = sloc_x + sloc_y\n",
    "            ## get the x index of site i and site j\n",
    "        #    xi,xj = self.X_site[i],self.X_site[j]\n",
    "            \n",
    "            ## get the y index of the site i and site j\n",
    "        #    yi,yj = self.Y_site[i],self.Y_site[j]\n",
    "            \n",
    "            ## calculate the minimum distance between the site i and j \n",
    "            ## taking into account the periodic boundary conditions\n",
    "        #    dx = min(abs(xi-xj),self.L-abs(xi-xj))\n",
    "        #    dy = min(abs(yi-yj),self.L-abs(yi-yj))    \n",
    "            \n",
    "            ## sum all the values for the same value of distance dx and dy\n",
    "        #    temp[dx,dy] += sum_sisj    \n",
    "            \n",
    "        #self.c_rt = temp\n",
    "    \n",
    "   \n",
    "    "
   ]
  },
  {
   "cell_type": "code",
   "execution_count": 286,
   "metadata": {},
   "outputs": [
    {
     "name": "stdout",
     "output_type": "stream",
     "text": [
      "(16384, 1)\n",
      "(16384, 16384)\n"
     ]
    }
   ],
   "source": [
    "obssd = sdnquench(conf1)\n",
    "obssd.calculate_siteindex()\n",
    "obssd.calculate_sx()\n",
    "obssd.corr_rt(2)"
   ]
  },
  {
   "cell_type": "code",
   "execution_count": 249,
   "metadata": {},
   "outputs": [],
   "source": [
    "corr_r={}\n",
    "for i,j in product(np.arange(obssd.L),np.arange(obssd.L)):\n",
    "    corr_r[np.sqrt(i**2+j**2)] = obssd.c_rt[i,j]/obssd.n_sites\n",
    "    "
   ]
  },
  {
   "cell_type": "code",
   "execution_count": 252,
   "metadata": {},
   "outputs": [
    {
     "data": {
      "image/png": "[encoded data removed]",
      "text/plain": [
       "<Figure size 432x288 with 1 Axes>"
      ]
     },
     "metadata": {
      "needs_background": "light"
     },
     "output_type": "display_data"
    }
   ],
   "source": [
    "xi = corr_r.keys()\n",
    "yi = corr_r.values()\n",
    "plt.plot(xi,yi,marker='o',linestyle='')\n",
    "plt.axis([0,50,0,1.1])\n",
    "plt.show()"
   ]
  },
  {
   "cell_type": "code",
   "execution_count": 251,
   "metadata": {},
   "outputs": [
    {
     "data": {
      "image/png": "[encoded data removed]",
      "text/plain": [
       "<Figure size 432x288 with 2 Axes>"
      ]
     },
     "metadata": {
      "needs_background": "light"
     },
     "output_type": "display_data"
    }
   ],
   "source": [
    "plt.imshow(obssd.c_rt/obssd.n_sites,origin='lower',cmap='tab20',interpolation='spline36')\n",
    "#plt.axis([0,30,0,30])\n",
    "plt.colorbar()\n",
    "plt.show()"
   ]
  },
  {
   "cell_type": "code",
   "execution_count": 259,
   "metadata": {},
   "outputs": [],
   "source": [
    "conf1 = pd.read_csv('sudden_quench_sweepspinconf_L128.dat',sep='\\t',header=None)\n"
   ]
  },
  {
   "cell_type": "code",
   "execution_count": 269,
   "metadata": {},
   "outputs": [],
   "source": [
    "col_names = []\n",
    "col_names.append('time')\n",
    "col_names.extend([f'theta{i}' for i in range(128**2+1)])\n",
    "\n",
    "conf1.columns = col_names\n",
    "\n",
    "conf1.drop(col_names[-1],axis=1,inplace=True)\n"
   ]
  },
  {
   "cell_type": "code",
   "execution_count": 270,
   "metadata": {},
   "outputs": [
    {
     "data": {
      "text/html": [
       "<div>\n",
       "<style scoped>\n",
       "    .dataframe tbody tr th:only-of-type {\n",
       "        vertical-align: middle;\n",
       "    }\n",
       "\n",
       "    .dataframe tbody tr th {\n",
       "        vertical-align: top;\n",
       "    }\n",
       "\n",
       "    .dataframe thead th {\n",
       "        text-align: right;\n",
       "    }\n",
       "</style>\n",
       "<table border=\"1\" class=\"dataframe\">\n",
       "  <thead>\n",
       "    <tr style=\"text-align: right;\">\n",
       "      <th></th>\n",
       "      <th>time</th>\n",
       "      <th>theta0</th>\n",
       "      <th>theta1</th>\n",
       "      <th>theta2</th>\n",
       "      <th>theta3</th>\n",
       "      <th>theta4</th>\n",
       "      <th>theta5</th>\n",
       "      <th>theta6</th>\n",
       "      <th>theta7</th>\n",
       "      <th>theta8</th>\n",
       "      <th>...</th>\n",
       "      <th>theta16374</th>\n",
       "      <th>theta16375</th>\n",
       "      <th>theta16376</th>\n",
       "      <th>theta16377</th>\n",
       "      <th>theta16378</th>\n",
       "      <th>theta16379</th>\n",
       "      <th>theta16380</th>\n",
       "      <th>theta16381</th>\n",
       "      <th>theta16382</th>\n",
       "      <th>theta16383</th>\n",
       "    </tr>\n",
       "  </thead>\n",
       "  <tbody>\n",
       "    <tr>\n",
       "      <th>0</th>\n",
       "      <td>0.0</td>\n",
       "      <td>-1.579788</td>\n",
       "      <td>-2.976528</td>\n",
       "      <td>-2.443357</td>\n",
       "      <td>2.866932</td>\n",
       "      <td>1.128343</td>\n",
       "      <td>1.750892</td>\n",
       "      <td>-3.083306</td>\n",
       "      <td>-1.746857</td>\n",
       "      <td>-1.956336</td>\n",
       "      <td>...</td>\n",
       "      <td>-1.512534</td>\n",
       "      <td>2.809467</td>\n",
       "      <td>-3.048221</td>\n",
       "      <td>-1.959672</td>\n",
       "      <td>-2.821117</td>\n",
       "      <td>1.857293</td>\n",
       "      <td>1.347982</td>\n",
       "      <td>-2.106826</td>\n",
       "      <td>0.221516</td>\n",
       "      <td>2.760473</td>\n",
       "    </tr>\n",
       "    <tr>\n",
       "      <th>1</th>\n",
       "      <td>1.0</td>\n",
       "      <td>-0.347868</td>\n",
       "      <td>-2.976528</td>\n",
       "      <td>2.580709</td>\n",
       "      <td>2.866932</td>\n",
       "      <td>1.128343</td>\n",
       "      <td>1.021770</td>\n",
       "      <td>-3.083306</td>\n",
       "      <td>-2.230213</td>\n",
       "      <td>-1.956336</td>\n",
       "      <td>...</td>\n",
       "      <td>-1.512534</td>\n",
       "      <td>2.809467</td>\n",
       "      <td>2.924956</td>\n",
       "      <td>-1.959672</td>\n",
       "      <td>-2.821117</td>\n",
       "      <td>1.857293</td>\n",
       "      <td>1.347982</td>\n",
       "      <td>-1.400489</td>\n",
       "      <td>0.221516</td>\n",
       "      <td>0.228019</td>\n",
       "    </tr>\n",
       "    <tr>\n",
       "      <th>2</th>\n",
       "      <td>2.0</td>\n",
       "      <td>-0.016639</td>\n",
       "      <td>-2.976528</td>\n",
       "      <td>2.580709</td>\n",
       "      <td>2.866932</td>\n",
       "      <td>3.095160</td>\n",
       "      <td>-2.780045</td>\n",
       "      <td>-3.083306</td>\n",
       "      <td>-2.230213</td>\n",
       "      <td>-1.956336</td>\n",
       "      <td>...</td>\n",
       "      <td>-1.895967</td>\n",
       "      <td>2.809467</td>\n",
       "      <td>2.924956</td>\n",
       "      <td>-2.521735</td>\n",
       "      <td>-2.821117</td>\n",
       "      <td>1.857293</td>\n",
       "      <td>3.114481</td>\n",
       "      <td>-2.083053</td>\n",
       "      <td>0.221516</td>\n",
       "      <td>0.228019</td>\n",
       "    </tr>\n",
       "    <tr>\n",
       "      <th>3</th>\n",
       "      <td>3.0</td>\n",
       "      <td>-0.016639</td>\n",
       "      <td>-2.976528</td>\n",
       "      <td>2.580709</td>\n",
       "      <td>2.866932</td>\n",
       "      <td>3.095160</td>\n",
       "      <td>-2.780045</td>\n",
       "      <td>-3.083306</td>\n",
       "      <td>-2.230213</td>\n",
       "      <td>-1.296322</td>\n",
       "      <td>...</td>\n",
       "      <td>-1.895967</td>\n",
       "      <td>2.809467</td>\n",
       "      <td>2.924956</td>\n",
       "      <td>-2.521735</td>\n",
       "      <td>-2.821117</td>\n",
       "      <td>1.857293</td>\n",
       "      <td>2.715290</td>\n",
       "      <td>-2.555816</td>\n",
       "      <td>0.221516</td>\n",
       "      <td>0.228019</td>\n",
       "    </tr>\n",
       "    <tr>\n",
       "      <th>4</th>\n",
       "      <td>4.0</td>\n",
       "      <td>-0.016639</td>\n",
       "      <td>-2.976528</td>\n",
       "      <td>2.580709</td>\n",
       "      <td>2.866932</td>\n",
       "      <td>3.095160</td>\n",
       "      <td>-1.965875</td>\n",
       "      <td>-3.083306</td>\n",
       "      <td>-2.230213</td>\n",
       "      <td>-1.296322</td>\n",
       "      <td>...</td>\n",
       "      <td>-0.989074</td>\n",
       "      <td>2.809467</td>\n",
       "      <td>2.924956</td>\n",
       "      <td>-2.521735</td>\n",
       "      <td>-2.821117</td>\n",
       "      <td>1.857293</td>\n",
       "      <td>2.715290</td>\n",
       "      <td>2.345677</td>\n",
       "      <td>0.569519</td>\n",
       "      <td>0.228019</td>\n",
       "    </tr>\n",
       "  </tbody>\n",
       "</table>\n",
       "<p>5 rows × 16385 columns</p>\n",
       "</div>"
      ],
      "text/plain": [
       "   time    theta0    theta1    theta2    theta3    theta4    theta5    theta6  \\\n",
       "0   0.0 -1.579788 -2.976528 -2.443357  2.866932  1.128343  1.750892 -3.083306   \n",
       "1   1.0 -0.347868 -2.976528  2.580709  2.866932  1.128343  1.021770 -3.083306   \n",
       "2   2.0 -0.016639 -2.976528  2.580709  2.866932  3.095160 -2.780045 -3.083306   \n",
       "3   3.0 -0.016639 -2.976528  2.580709  2.866932  3.095160 -2.780045 -3.083306   \n",
       "4   4.0 -0.016639 -2.976528  2.580709  2.866932  3.095160 -1.965875 -3.083306   \n",
       "\n",
       "     theta7    theta8  ...  theta16374  theta16375  theta16376  theta16377  \\\n",
       "0 -1.746857 -1.956336  ...   -1.512534    2.809467   -3.048221   -1.959672   \n",
       "1 -2.230213 -1.956336  ...   -1.512534    2.809467    2.924956   -1.959672   \n",
       "2 -2.230213 -1.956336  ...   -1.895967    2.809467    2.924956   -2.521735   \n",
       "3 -2.230213 -1.296322  ...   -1.895967    2.809467    2.924956   -2.521735   \n",
       "4 -2.230213 -1.296322  ...   -0.989074    2.809467    2.924956   -2.521735   \n",
       "\n",
       "   theta16378  theta16379  theta16380  theta16381  theta16382  theta16383  \n",
       "0   -2.821117    1.857293    1.347982   -2.106826    0.221516    2.760473  \n",
       "1   -2.821117    1.857293    1.347982   -1.400489    0.221516    0.228019  \n",
       "2   -2.821117    1.857293    3.114481   -2.083053    0.221516    0.228019  \n",
       "3   -2.821117    1.857293    2.715290   -2.555816    0.221516    0.228019  \n",
       "4   -2.821117    1.857293    2.715290    2.345677    0.569519    0.228019  \n",
       "\n",
       "[5 rows x 16385 columns]"
      ]
     },
     "execution_count": 270,
     "metadata": {},
     "output_type": "execute_result"
    }
   ],
   "source": [
    "conf1.head()"
   ]
  },
  {
   "cell_type": "code",
   "execution_count": 268,
   "metadata": {},
   "outputs": [
    {
     "data": {
      "text/plain": [
       "16384"
      ]
     },
     "execution_count": 268,
     "metadata": {},
     "output_type": "execute_result"
    }
   ],
   "source": [
    "128*128"
   ]
  },
  {
   "cell_type": "markdown",
   "metadata": {},
   "source": [
    "<ol>\n",
    "<li> $**0**$,1,2,3,**4**,5,6,7 </li>\n",
    "\\item 0,**1**,2,3,4,**5**,6,7\n",
    "\\item **0**,1,2,3,**4**,5,6,7\n",
    "\\item **0**,1,2,3,**4**,5,6,7\n",
    "\\item **0**,1,2,3,**4**,5,6,7\n",
    "</ol>"
   ]
  },
  {
   "cell_type": "code",
   "execution_count": null,
   "metadata": {},
   "outputs": [],
   "source": []
  }
 ],
 "metadata": {
  "interpreter": {
   "hash": "47b88c5e2a9ab33eee56cb1f27361770b8d297179cf0eb7fbe5f4a32a1ba153d"
  },
  "kernelspec": {
   "display_name": "ml_env",
   "language": "python",
   "name": "python3"
  },
  "language_info": {
   "codemirror_mode": {
    "name": "ipython",
    "version": 3
   },
   "file_extension": ".py",
   "mimetype": "text/x-python",
   "name": "python",
   "nbconvert_exporter": "python",
   "pygments_lexer": "ipython3",
   "version": "3.8.2"
  }
 },
 "nbformat": 4,
 "nbformat_minor": 4
}
