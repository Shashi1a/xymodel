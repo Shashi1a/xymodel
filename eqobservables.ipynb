{
 "cells": [
  {
   "cell_type": "markdown",
   "metadata": {},
   "source": [
    "### Calculating Observables for the Equilibrium case\n"
   ]
  },
  {
   "cell_type": "code",
   "execution_count": 1,
   "metadata": {},
   "outputs": [],
   "source": [
    "import numpy as np \n",
    "import math \n",
    "import pandas as pd \n",
    "import matplotlib.pyplot as plt\n",
    "import seaborn as sns\n"
   ]
  },
  {
   "cell_type": "code",
   "execution_count": null,
   "metadata": {},
   "outputs": [],
   "source": [
    "## class definition to measure equilibrium observable values\n",
    "class EqObservables:\n",
    "    def __init__(self,L,file_path):\n",
    "        '''\n",
    "        This function will initialize the instance of the class\n",
    "        parameters:\n",
    "            self(object): \n",
    "            L(integer): The system size\n",
    "            file_path(string): location where the files are stored\n",
    "        '''"
   ]
  }
 ],
 "metadata": {
  "interpreter": {
   "hash": "47b88c5e2a9ab33eee56cb1f27361770b8d297179cf0eb7fbe5f4a32a1ba153d"
  },
  "kernelspec": {
   "display_name": "Python 3.8.2 ('ml_env')",
   "language": "python",
   "name": "python3"
  },
  "language_info": {
   "codemirror_mode": {
    "name": "ipython",
    "version": 3
   },
   "file_extension": ".py",
   "mimetype": "text/x-python",
   "name": "python",
   "nbconvert_exporter": "python",
   "pygments_lexer": "ipython3",
   "version": "3.8.2"
  },
  "orig_nbformat": 4
 },
 "nbformat": 4,
 "nbformat_minor": 2
}
